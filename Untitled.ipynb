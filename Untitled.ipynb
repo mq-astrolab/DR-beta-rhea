{
 "cells": [
  {
   "cell_type": "code",
   "execution_count": null,
   "metadata": {},
   "outputs": [],
   "source": [
    "bias_files=[\"super-k-0001bias.fit\",\"super-k-0002bias.fit\",\"super-k-0003bias.fit\"]\n",
    "dark_files=[\"gamma-dark-480.fit\",\"gamma-dark-480-2.fit\"]\n",
    "science_files=[\"gamma_1.fit\"]"
   ]
  },
  {
   "cell_type": "markdown",
   "metadata": {},
   "source": [
    "## Examining the spectra through a multicore fiber\n",
    "\n",
    "### 19 cores, no masking of outer cores\n",
    "\n",
    "#### Setup Notes\n",
    "\n",
    "SnR is bad since the spectrograph is not fully enclosed yes, exposure taken in a darkened room\n",
    "\n",
    "Using a ZWO ASI183MM CMOS camera to image the spot from one order\n",
    "\n",
    "* Sensor type\tCMOS\n",
    "* Sensor specification\t 1/3″ CMOS MT9M034\n",
    "* Resolution: 1.2Mega Pixels 1280×960\n",
    "* Pixel Size: 2.4µm\n",
    "* Exposure Range: 64µs-1000s\n",
    "* ROI: Supported\n",
    "* Bit rate: 12bit output (12bit ADC)\n",
    "\n",
    "The setups:\n",
    "\n",
    "Ocean optics halogen light source\n",
    "\n",
    "multicore fiber with SMA connectors\n",
    "butt coupled to a short segment of MCF with FC connectors"
   ]
  },
  {
   "cell_type": "markdown",
   "metadata": {},
   "source": [
    "### import the necessary packages"
   ]
  },
  {
   "cell_type": "code",
   "execution_count": 1,
   "metadata": {},
   "outputs": [],
   "source": [
    "import matplotlib.pyplot as plt  \n",
    "import pandas as pd  \n",
    "import os\n",
    "import numpy as np\n",
    "from astropy.io import fits \n",
    "\n",
    "from PIL import Image\n",
    "\n",
    "\n",
    "#conda install -c astropy photutils\n",
    "\n",
    "from photutils import centroid_com, centroid_1dg, centroid_2dg\n",
    "\n",
    "#need to install newer version of scipy from conda, need 1.2 or newer for find_peaks function\n",
    "\n",
    "from scipy.signal import find_peaks\n",
    "\n",
    "#for animations\n",
    "from matplotlib import animation, rc\n",
    "from IPython.display import HTML\n",
    "\n",
    "#patches\n",
    "from matplotlib import patches as patches"
   ]
  },
  {
   "cell_type": "markdown",
   "metadata": {},
   "source": [
    "### Set the pixel size for your detector\n",
    "The ZWO ASI183MM camera "
   ]
  },
  {
   "cell_type": "code",
   "execution_count": 2,
   "metadata": {},
   "outputs": [],
   "source": [
    "pixelsize=2.4"
   ]
  },
  {
   "cell_type": "markdown",
   "metadata": {},
   "source": [
    "### Set up data store directories and load an image into a numpy array\n",
    "\n",
    "we pick a 4s exposure"
   ]
  },
  {
   "cell_type": "code",
   "execution_count": 5,
   "metadata": {},
   "outputs": [],
   "source": [
    "datastore_path=\"d:/cloudstor/datastore/SCExAO-MCF/16-10-2019/\"\n",
    "run_dir=\"\""
   ]
  }
 ],
 "metadata": {
  "kernelspec": {
   "display_name": "Python 3",
   "language": "python",
   "name": "python3"
  },
  "language_info": {
   "codemirror_mode": {
    "name": "ipython",
    "version": 3
   },
   "file_extension": ".py",
   "mimetype": "text/x-python",
   "name": "python",
   "nbconvert_exporter": "python",
   "pygments_lexer": "ipython3",
   "version": "3.6.5"
  }
 },
 "nbformat": 4,
 "nbformat_minor": 2
}
